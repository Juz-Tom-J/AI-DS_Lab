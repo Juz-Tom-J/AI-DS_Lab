{
 "cells": [
  {
   "cell_type": "code",
   "execution_count": 14,
   "metadata": {},
   "outputs": [
    {
     "name": "stdout",
     "output_type": "stream",
     "text": [
      "Matrix 1: \n",
      " [[1 2 3]\n",
      " [4 5 6]\n",
      " [7 8 9]]\n",
      "Matrix 2: \n",
      " [[11 12 13]\n",
      " [14 15 16]\n",
      " [17 18 19]]\n",
      "Sum: \n",
      " [[12 14 16]\n",
      " [18 20 22]\n",
      " [24 26 28]]\n",
      "Difference: \n",
      " [[10 10 10]\n",
      " [10 10 10]\n",
      " [10 10 10]]\n",
      "Product: \n",
      " [[ 90  96 102]\n",
      " [216 231 246]\n",
      " [342 366 390]]\n",
      "On dividing: \n",
      " [[11.          6.          4.33333333]\n",
      " [ 3.5         3.          2.66666667]\n",
      " [ 2.42857143  2.25        2.11111111]]\n",
      "Transpose of matrix 1: \n",
      " [[1 4 7]\n",
      " [2 5 8]\n",
      " [3 6 9]]\n"
     ]
    },
    {
     "data": {
      "image/png": "[encoded data removed]",
      "text/plain": [
       "<matplotlib.figure.Figure at 0x7fc137ef9240>"
      ]
     },
     "metadata": {},
     "output_type": "display_data"
    },
    {
     "data": {
      "image/png": "[encoded data removed]",
      "text/plain": [
       "<matplotlib.figure.Figure at 0x7fc137e3d588>"
      ]
     },
     "metadata": {},
     "output_type": "display_data"
    },
    {
     "name": "stdout",
     "output_type": "stream",
     "text": [
      "<class 'pandas.core.frame.DataFrame'>\n",
      "RangeIndex: 200 entries, 0 to 199\n",
      "Data columns (total 4 columns):\n",
      "TV           200 non-null float64\n",
      "Radio        200 non-null float64\n",
      "Newspaper    200 non-null float64\n",
      "Sales        200 non-null float64\n",
      "dtypes: float64(4)\n",
      "memory usage: 6.3 KB\n"
     ]
    }
   ],
   "source": [
    "import numpy as np\n",
    "import matplotlib.pyplot as plt\n",
    "import seaborn as sb\n",
    "import pandas as pd\n",
    "\n",
    "m1 = np.arange(1,10).reshape(3,3)\n",
    "m2 = np.arange(11,20).reshape(3,3)\n",
    "\n",
    "print(\"Matrix 1: \\n\",m1)\n",
    "print(\"Matrix 2: \\n\",m2)\n",
    "\n",
    "print(\"Sum: \\n\",np.add(m1,m2))\n",
    "print(\"Difference: \\n\",np.subtract(m2,m1))\n",
    "print(\"Product: \\n\",np.dot(m1,m2))\n",
    "print(\"On dividing: \\n\",np.divide(m2,m1))\n",
    "print(\"Transpose of matrix 1: \\n\",np.transpose(m1))\n",
    "\n",
    "#Dataset\n",
    "x = np.arange(0,10)\n",
    "y = np.arange(11,21)\n",
    "\n",
    "\n",
    "#Plotting using matplotlib\n",
    "plt.scatter(x,y,c='b')\n",
    "plt.xlabel('X Axis')\n",
    "plt.ylabel('Y Axis')\n",
    "plt.title('Plotting using MatPlotLib')\n",
    "plt.show()\n",
    "\n",
    "#Plotting using seaborn\n",
    "graph = sb.stripplot(x)\n",
    "graph.set(xlabel='X axis',ylabel='Y axis',title='Plotting using Seaborn')\n",
    "plt.show()\n",
    "\n",
    "#Using pandas\n",
    "df = pd.read_csv('advertising.csv')\n",
    "df.info()"
   ]
  },
  {
   "cell_type": "code",
   "execution_count": null,
   "metadata": {},
   "outputs": [],
   "source": []
  }
 ],
 "metadata": {
  "kernelspec": {
   "display_name": "Python 3",
   "language": "python",
   "name": "python3"
  },
  "language_info": {
   "codemirror_mode": {
    "name": "ipython",
    "version": 3
   },
   "file_extension": ".py",
   "mimetype": "text/x-python",
   "name": "python",
   "nbconvert_exporter": "python",
   "pygments_lexer": "ipython3",
   "version": "3.6.9"
  }
 },
 "nbformat": 4,
 "nbformat_minor": 2
}
