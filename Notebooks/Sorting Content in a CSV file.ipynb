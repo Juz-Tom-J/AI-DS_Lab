{
 "cells": [
  {
   "cell_type": "code",
   "execution_count": 3,
   "metadata": {},
   "outputs": [
    {
     "name": "stdout",
     "output_type": "stream",
     "text": [
      "       Name  Marks\n",
      "0  Abhinand     74\n",
      "1     Rohit     67\n",
      "2     Jimmy     81\n",
      "3     Talha     77\n",
      "4      Maya     90\n",
      "5     Ganga     85\n",
      "6      Lucy     71\n",
      "7    Sheila     66\n",
      "\n",
      "Sorting Data (Name):\n",
      "       Name  Marks\n",
      "0  Abhinand     74\n",
      "5     Ganga     85\n",
      "2     Jimmy     81\n",
      "6      Lucy     71\n",
      "4      Maya     90\n",
      "1     Rohit     67\n",
      "7    Sheila     66\n",
      "3     Talha     77\n",
      "\n",
      "Sorting Data (Marks):\n",
      "       Name  Marks\n",
      "7    Sheila     66\n",
      "1     Rohit     67\n",
      "6      Lucy     71\n",
      "0  Abhinand     74\n",
      "3     Talha     77\n",
      "2     Jimmy     81\n",
      "5     Ganga     85\n",
      "4      Maya     90\n"
     ]
    }
   ],
   "source": [
    "import pandas as pd\n",
    "mark_sort = pd.read_csv('std_marks.csv')\n",
    "print(mark_sort)\n",
    "print(f\"\\nSorting Data (Name):\\n{file.sort_values(['Name'])}\")\n",
    "print(f\"\\nSorting Data (Marks):\\n{file.sort_values(['Marks'])}\")"
   ]
  },
  {
   "cell_type": "code",
   "execution_count": null,
   "metadata": {},
   "outputs": [],
   "source": []
  }
 ],
 "metadata": {
  "kernelspec": {
   "display_name": "Python 3",
   "language": "python",
   "name": "python3"
  },
  "language_info": {
   "codemirror_mode": {
    "name": "ipython",
    "version": 3
   },
   "file_extension": ".py",
   "mimetype": "text/x-python",
   "name": "python",
   "nbconvert_exporter": "python",
   "pygments_lexer": "ipython3",
   "version": "3.6.9"
  }
 },
 "nbformat": 4,
 "nbformat_minor": 2
}
