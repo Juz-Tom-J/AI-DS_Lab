{
 "cells": [
  {
   "cell_type": "code",
   "execution_count": 4,
   "metadata": {},
   "outputs": [
    {
     "name": "stdout",
     "output_type": "stream",
     "text": [
      "Correlation before PCA:\n",
      "           0         1         2         3\n",
      "0  1.000000 -0.117570  0.871754  0.817941\n",
      "1 -0.117570  1.000000 -0.428440 -0.366126\n",
      "2  0.871754 -0.428440  1.000000  0.962865\n",
      "3  0.817941 -0.366126  0.962865  1.000000\n"
     ]
    },
    {
     "data": {
      "image/png": "[encoded data removed]",
      "text/plain": [
       "<matplotlib.figure.Figure at 0x7f5c229b42e8>"
      ]
     },
     "metadata": {},
     "output_type": "display_data"
    },
    {
     "name": "stdout",
     "output_type": "stream",
     "text": [
      "Correlation after PCA:\n",
      "               PC1           PC2           PC3\n",
      "PC1  1.000000e+00 -2.177612e-16 -2.601165e-16\n",
      "PC2 -2.177612e-16  1.000000e+00 -2.720287e-16\n",
      "PC3 -2.601165e-16 -2.720287e-16  1.000000e+00\n"
     ]
    },
    {
     "data": {
      "image/png": "[encoded data removed]",
      "text/plain": [
       "<matplotlib.figure.Figure at 0x7f5c228ef390>"
      ]
     },
     "metadata": {},
     "output_type": "display_data"
    }
   ],
   "source": [
    "from sklearn import datasets\n",
    "import pandas as pd\n",
    "from sklearn.preprocessing import StandardScaler \n",
    "from sklearn.decomposition import PCA \n",
    "import seaborn as sns \n",
    "import matplotlib.pyplot as plt\n",
    "\n",
    "iris = datasets.load_iris()\n",
    "df = pd.DataFrame(iris['data'], columns = iris['feature_names'])\n",
    "\n",
    "scalar = StandardScaler().fit_transform(df)\n",
    "scaled_data = pd.DataFrame(scalar)\n",
    "\n",
    "pca = PCA(n_components = 3).fit(scaled_data) \n",
    "data_pca = pca.transform(scaled_data)\n",
    "data_pca = pd.DataFrame(data_pca,columns=['PC1','PC2','PC3'])\n",
    "\n",
    "print(\"Correlation before PCA:\\n\",scaled_data.corr())\n",
    "sns.heatmap(scaled_data.corr())\n",
    "plt.show()\n",
    "\n",
    "print(\"Correlation after PCA:\\n\",data_pca.corr())\n",
    "sns.heatmap(data_pca.corr()) \n",
    "plt.show()"
   ]
  },
  {
   "cell_type": "code",
   "execution_count": null,
   "metadata": {},
   "outputs": [],
   "source": []
  },
  {
   "cell_type": "code",
   "execution_count": null,
   "metadata": {},
   "outputs": [],
   "source": []
  }
 ],
 "metadata": {
  "kernelspec": {
   "display_name": "Python 3",
   "language": "python",
   "name": "python3"
  },
  "language_info": {
   "codemirror_mode": {
    "name": "ipython",
    "version": 3
   },
   "file_extension": ".py",
   "mimetype": "text/x-python",
   "name": "python",
   "nbconvert_exporter": "python",
   "pygments_lexer": "ipython3",
   "version": "3.6.9"
  }
 },
 "nbformat": 4,
 "nbformat_minor": 2
}
