{
 "cells": [
  {
   "cell_type": "code",
   "execution_count": 54,
   "metadata": {},
   "outputs": [
    {
     "name": "stdout",
     "output_type": "stream",
     "text": [
      "[1 0 0 1 1 0 0 0 1 1 1 0 1 0 1 0 1 1 1 0 1 1 0 1 1 1 1 1 1 0 1 1 1 1 1 1 0\n",
      " 1 0 1 1 0 1 1 1 1 1 1 1 1 0 0 1 1 1 1 1 0 0 1 1 0 0 1 1 1 0 0 1 1 0 0 1 0\n",
      " 1 1 1 1 1 1 0 1 1 0 0 0 0 0 1 1 1 1 1 1 1 1 0 0 1 0 0 1 0 0 1 1 1 0 1 1 0\n",
      " 1 1 0]\n",
      "Confusion matrix\n",
      " [[40  3]\n",
      " [ 0 71]]\n"
     ]
    },
    {
     "data": {
      "image/png": "[encoded data removed]",
      "text/plain": [
       "<matplotlib.figure.Figure at 0x7f8365593240>"
      ]
     },
     "metadata": {},
     "output_type": "display_data"
    },
    {
     "name": "stdout",
     "output_type": "stream",
     "text": [
      "True Positive:  40\n",
      "True Negative:  71\n",
      "False Negative:  3\n",
      "False Positive:  0\n",
      "Accuracy =  0.9736842105263158\n",
      "Precision =  1.0\n",
      "Recall =  0.9302325581395349\n"
     ]
    }
   ],
   "source": [
    "from sklearn.datasets import load_breast_cancer\n",
    "from sklearn.metrics import confusion_matrix\n",
    "b_cancer = datasets.load_breast_cancer()\n",
    "\n",
    "X = b_cancer.data\n",
    "y = b_cancer.target\n",
    "  \n",
    "from sklearn.model_selection import train_test_split\n",
    "X_train, X_test, y_train, y_test = train_test_split(X, y, test_size = 0.2, random_state = 42)\n",
    "\n",
    "from sklearn.naive_bayes import GaussianNB\n",
    "gnb = GaussianNB()\n",
    "gnb.fit(X_train, y_train)\n",
    "\n",
    "y_pred = gnb.predict(X_test)\n",
    "print(y_pred)\n",
    "\n",
    "from sklearn.metrics import confusion_matrix\n",
    "import seaborn as sn\n",
    "cm = confusion_matrix(y_test, y_pred)\n",
    "print('Confusion matrix\\n', cm)\n",
    "\n",
    "TP =  cm[0,0]\n",
    "print(\"True Positive: \",TP)\n",
    "TN =  cm[1,1]\n",
    "print(\"True Negative: \",TN)\n",
    "FN =  cm[0,1]\n",
    "print(\"False Negative: \",FN)\n",
    "FP =  cm[1,0]\n",
    "print(\"False Positive: \",FP)\n",
    "\n",
    "accuracy = float((TP+TN)/(TP+FN+TN+FP))\n",
    "print(\"Accuracy = \",accuracy)\n",
    "precision = float(TP/(TP+FP))\n",
    "print(\"Precision = \",precision)\n",
    "recall = float(TP/(TP+FN))\n",
    "print(\"Recall = \",recall)"
   ]
  },
  {
   "cell_type": "code",
   "execution_count": null,
   "metadata": {},
   "outputs": [],
   "source": []
  }
 ],
 "metadata": {
  "kernelspec": {
   "display_name": "Python 3",
   "language": "python",
   "name": "python3"
  },
  "language_info": {
   "codemirror_mode": {
    "name": "ipython",
    "version": 3
   },
   "file_extension": ".py",
   "mimetype": "text/x-python",
   "name": "python",
   "nbconvert_exporter": "python",
   "pygments_lexer": "ipython3",
   "version": "3.6.9"
  }
 },
 "nbformat": 4,
 "nbformat_minor": 2
}
